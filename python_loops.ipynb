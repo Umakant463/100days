{
 "cells": [
  {
   "cell_type": "code",
   "execution_count": 2,
   "id": "0d698dcf-ac0e-476c-8b01-5786c2db3e4c",
   "metadata": {},
   "outputs": [],
   "source": [
    "# We are going to make a Patterns out of loop statements\n",
    "\n",
    "n=7"
   ]
  },
  {
   "cell_type": "code",
   "execution_count": 7,
   "id": "4bb3465d-3dc8-4ced-a63e-1bd752858deb",
   "metadata": {},
   "outputs": [
    {
     "name": "stdout",
     "output_type": "stream",
     "text": [
      "*\n",
      "**\n",
      "***\n",
      "****\n",
      "*****\n",
      "******\n",
      "*******\n"
     ]
    }
   ],
   "source": [
    "## Right Angeled Triangle\n",
    "\n",
    "for i in range(0,7):\n",
    "    for j in range(0,i+1):\n",
    "        print('*',end=\"\")\n",
    "    print('\\r')"
   ]
  },
  {
   "cell_type": "code",
   "execution_count": 27,
   "id": "9d8eb6cc-e151-42fe-8d44-54da2188576c",
   "metadata": {},
   "outputs": [
    {
     "name": "stdout",
     "output_type": "stream",
     "text": [
      "       **\n",
      "      ****\n",
      "     ******\n",
      "    ********\n",
      "   **********\n",
      "  ************\n",
      " **************\n"
     ]
    }
   ],
   "source": [
    "## Equilateral Triangle\n",
    "\n",
    "for i in range(0,7):\n",
    "    for j in range(0,7-i):\n",
    "        print(' ',end=\"\")\n",
    "\n",
    "    for k in range(0,i+1):\n",
    "        print('*',end=\"\")\n",
    "        \n",
    "    for m in range(0,i+1):\n",
    "        print('*',end=\"\")\n",
    "    print('\\r')\n",
    "   "
   ]
  },
  {
   "cell_type": "code",
   "execution_count": null,
   "id": "b45bbebb-d75a-47da-932d-9262c586b001",
   "metadata": {},
   "outputs": [],
   "source": []
  }
 ],
 "metadata": {
  "kernelspec": {
   "display_name": "Python 3 (ipykernel)",
   "language": "python",
   "name": "python3"
  },
  "language_info": {
   "codemirror_mode": {
    "name": "ipython",
    "version": 3
   },
   "file_extension": ".py",
   "mimetype": "text/x-python",
   "name": "python",
   "nbconvert_exporter": "python",
   "pygments_lexer": "ipython3",
   "version": "3.10.8"
  }
 },
 "nbformat": 4,
 "nbformat_minor": 5
}
